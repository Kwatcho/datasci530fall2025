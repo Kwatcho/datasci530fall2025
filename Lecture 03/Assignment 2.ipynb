{
 "cells": [
  {
   "cell_type": "code",
   "execution_count": 1,
   "id": "b81f2e45",
   "metadata": {},
   "outputs": [],
   "source": [
    "import pandas as pd\n",
    "import numpy as np\n",
    "import matplotlib.pyplot as plt"
   ]
  },
  {
   "cell_type": "markdown",
   "id": "cb9a4ac4",
   "metadata": {},
   "source": [
    "<font size = \"5\" >\n",
    "\n",
    "(a) Which three constructors had the highest number of total points between 1981 and\n",
    "2020? How many total points did each of them get? How do the total number of points\n",
    "for each constructor compare to the average across constructors?"
   ]
  },
  {
   "cell_type": "code",
   "execution_count": null,
   "id": "dad2c1f0",
   "metadata": {},
   "outputs": [],
   "source": [
    "constructors = pd.read_csv(\"data_raw/constructors.csv\")\n",
    "constructor_standings = pd.read_csv(\"data_raw/constructor_standings.csv\")\n",
    "results = pd.read_csv(\"data_raw/results.csv\")\n",
    "races = pd.read_csv(\"data_raw/races.csv\")\n"
   ]
  },
  {
   "cell_type": "code",
   "execution_count": 13,
   "id": "37c5a445",
   "metadata": {},
   "outputs": [
    {
     "data": {
      "application/vnd.microsoft.datawrangler.viewer.v0+json": {
       "columns": [
        {
         "name": "('constructorId', 'name')",
         "rawType": "object",
         "type": "unknown"
        },
        {
         "name": "total_points",
         "rawType": "float64",
         "type": "float"
        }
       ],
       "ref": "d823d1a1-9db9-4305-b0a4-d489337155dc",
       "rows": [
        [
         "(np.int64(6), 'Ferrari')",
         "72689.0"
        ],
        [
         "(np.int64(131), 'Mercedes')",
         "59297.0"
        ],
        [
         "(np.int64(9), 'Red Bull')",
         "49761.0"
        ]
       ],
       "shape": {
        "columns": 1,
        "rows": 3
       }
      },
      "text/html": [
       "<div>\n",
       "<style scoped>\n",
       "    .dataframe tbody tr th:only-of-type {\n",
       "        vertical-align: middle;\n",
       "    }\n",
       "\n",
       "    .dataframe tbody tr th {\n",
       "        vertical-align: top;\n",
       "    }\n",
       "\n",
       "    .dataframe thead th {\n",
       "        text-align: right;\n",
       "    }\n",
       "</style>\n",
       "<table border=\"1\" class=\"dataframe\">\n",
       "  <thead>\n",
       "    <tr style=\"text-align: right;\">\n",
       "      <th></th>\n",
       "      <th></th>\n",
       "      <th>total_points</th>\n",
       "    </tr>\n",
       "    <tr>\n",
       "      <th>constructorId</th>\n",
       "      <th>name</th>\n",
       "      <th></th>\n",
       "    </tr>\n",
       "  </thead>\n",
       "  <tbody>\n",
       "    <tr>\n",
       "      <th>6</th>\n",
       "      <th>Ferrari</th>\n",
       "      <td>72689.0</td>\n",
       "    </tr>\n",
       "    <tr>\n",
       "      <th>131</th>\n",
       "      <th>Mercedes</th>\n",
       "      <td>59297.0</td>\n",
       "    </tr>\n",
       "    <tr>\n",
       "      <th>9</th>\n",
       "      <th>Red Bull</th>\n",
       "      <td>49761.0</td>\n",
       "    </tr>\n",
       "  </tbody>\n",
       "</table>\n",
       "</div>"
      ],
      "text/plain": [
       "                        total_points\n",
       "constructorId name                  \n",
       "6             Ferrari        72689.0\n",
       "131           Mercedes       59297.0\n",
       "9             Red Bull       49761.0"
      ]
     },
     "metadata": {},
     "output_type": "display_data"
    }
   ],
   "source": [
    "merged_constructurs = (constructor_standings\n",
    "      .merge(races[[\"raceId\", \"year\"]], on=\"raceId\", how=\"left\")\n",
    "      .merge(constructors, on=\"constructorId\", how=\"left\"))\n",
    "\n",
    "top3_points = (merged_constructurs.query(\"year >= 1981 and year <= 2020\")\n",
    "               .groupby([\"constructorId\",\"name\"])\n",
    "               .agg(total_points=(\"points\",\"sum\"))\n",
    "               .sort_values(\"total_points\", ascending=False).head(3))\n",
    "display(top3_points)"
   ]
  },
  {
   "cell_type": "code",
   "execution_count": 12,
   "id": "61687ef6",
   "metadata": {},
   "outputs": [
    {
     "data": {
      "text/plain": [
       "np.float64(5233.325757575758)"
      ]
     },
     "execution_count": 12,
     "metadata": {},
     "output_type": "execute_result"
    }
   ],
   "source": [
    "average_pts = (merged_constructurs.query(\"year >= 1981 and year <= 2020\")\n",
    "               .groupby([\"constructorId\",\"name\"])\n",
    "               .agg(total_points=(\"points\",\"sum\")))[\"total_points\"].mean()\n",
    "average_pts"
   ]
  },
  {
   "cell_type": "markdown",
   "id": "dd13f9c9",
   "metadata": {},
   "source": [
    "<font size = \"5\" >\n",
    "\n",
    "(b) Which three constructors had the highest number of total points between 2001 and\n",
    "2020? How many total points did each of them get? How do the total number of points\n",
    "for each constructor compare to the average across constructors?"
   ]
  },
  {
   "cell_type": "code",
   "execution_count": 14,
   "id": "ffd6a316",
   "metadata": {},
   "outputs": [
    {
     "data": {
      "application/vnd.microsoft.datawrangler.viewer.v0+json": {
       "columns": [
        {
         "name": "('constructorId', 'name')",
         "rawType": "object",
         "type": "unknown"
        },
        {
         "name": "total_points",
         "rawType": "float64",
         "type": "float"
        }
       ],
       "ref": "e5af5662-cadf-46e6-a483-f08f82646f55",
       "rows": [
        [
         "(np.int64(6), 'Ferrari')",
         "59724.0"
        ],
        [
         "(np.int64(131), 'Mercedes')",
         "59297.0"
        ],
        [
         "(np.int64(9), 'Red Bull')",
         "49761.0"
        ]
       ],
       "shape": {
        "columns": 1,
        "rows": 3
       }
      },
      "text/html": [
       "<div>\n",
       "<style scoped>\n",
       "    .dataframe tbody tr th:only-of-type {\n",
       "        vertical-align: middle;\n",
       "    }\n",
       "\n",
       "    .dataframe tbody tr th {\n",
       "        vertical-align: top;\n",
       "    }\n",
       "\n",
       "    .dataframe thead th {\n",
       "        text-align: right;\n",
       "    }\n",
       "</style>\n",
       "<table border=\"1\" class=\"dataframe\">\n",
       "  <thead>\n",
       "    <tr style=\"text-align: right;\">\n",
       "      <th></th>\n",
       "      <th></th>\n",
       "      <th>total_points</th>\n",
       "    </tr>\n",
       "    <tr>\n",
       "      <th>constructorId</th>\n",
       "      <th>name</th>\n",
       "      <th></th>\n",
       "    </tr>\n",
       "  </thead>\n",
       "  <tbody>\n",
       "    <tr>\n",
       "      <th>6</th>\n",
       "      <th>Ferrari</th>\n",
       "      <td>59724.0</td>\n",
       "    </tr>\n",
       "    <tr>\n",
       "      <th>131</th>\n",
       "      <th>Mercedes</th>\n",
       "      <td>59297.0</td>\n",
       "    </tr>\n",
       "    <tr>\n",
       "      <th>9</th>\n",
       "      <th>Red Bull</th>\n",
       "      <td>49761.0</td>\n",
       "    </tr>\n",
       "  </tbody>\n",
       "</table>\n",
       "</div>"
      ],
      "text/plain": [
       "                        total_points\n",
       "constructorId name                  \n",
       "6             Ferrari        59724.0\n",
       "131           Mercedes       59297.0\n",
       "9             Red Bull       49761.0"
      ]
     },
     "metadata": {},
     "output_type": "display_data"
    }
   ],
   "source": [
    "top3_points_2020 = (merged_constructurs.query(\"year >= 2001 and year <= 2020\")\n",
    "               .groupby([\"constructorId\",\"name\"])\n",
    "               .agg(total_points=(\"points\",\"sum\"))\n",
    "               .sort_values(\"total_points\", ascending=False).head(3))\n",
    "display(top3_points_2020)"
   ]
  },
  {
   "cell_type": "code",
   "execution_count": 15,
   "id": "c660e405",
   "metadata": {},
   "outputs": [
    {
     "data": {
      "text/plain": [
       "np.float64(7879.628571428571)"
      ]
     },
     "execution_count": 15,
     "metadata": {},
     "output_type": "execute_result"
    }
   ],
   "source": [
    "average_pts_2020 = (merged_constructurs.query(\"year >= 2001 and year <= 2020\")\n",
    "               .groupby([\"constructorId\",\"name\"])\n",
    "               .agg(total_points=(\"points\",\"sum\")))[\"total_points\"].mean()\n",
    "average_pts_2020"
   ]
  },
  {
   "cell_type": "markdown",
   "id": "37a8fd29",
   "metadata": {},
   "source": [
    "<font size = \"5\" >\n",
    "\n",
    "(c) How did the rankings change across the two time periods?"
   ]
  },
  {
   "cell_type": "markdown",
   "id": "2f33845a",
   "metadata": {},
   "source": [
    "<font size = \"3\">\n",
    "\n",
    "Comparing `top3_points` with `top3_points_2020` shows that the names of the top 3 constructors are the same across the two time periods and in the same order: Ferrari, Mercedes, and Red Bull. "
   ]
  },
  {
   "cell_type": "markdown",
   "id": "9b32376f",
   "metadata": {},
   "source": [
    "<font size = \"5\" >\n",
    "\n",
    "(d) How many different drivers did Ferrari have between 1981 and 2020?"
   ]
  },
  {
   "cell_type": "code",
   "execution_count": 27,
   "id": "545bd6c7",
   "metadata": {},
   "outputs": [
    {
     "data": {
      "text/plain": [
       "25"
      ]
     },
     "execution_count": 27,
     "metadata": {},
     "output_type": "execute_result"
    }
   ],
   "source": [
    "results_year = results.merge(races[[\"raceId\",\"year\"]], on=\"raceId\", how=\"left\")\n",
    "ferrari_ids = constructors.query(\"name == 'Ferrari'\")[\"constructorId\"].unique()\n",
    "\n",
    "ferrari_drivers = (results_year\n",
    "                        .query(\"year >= 1981 and year <= 2020 and constructorId in @ferrari_ids\")\n",
    "                        [\"driverId\"]\n",
    "                        .unique())\n",
    "\n",
    "len(ferrari_drivers)"
   ]
  },
  {
   "cell_type": "markdown",
   "id": "dbc209b8",
   "metadata": {},
   "source": [
    "<font size = \"5\" >\n",
    "\n",
    "(e) What was the best year for Ferrari between 1981 and 2020?\n",
    "\n",
    "<font size = \"3\" >\n",
    "I am going to define the “best year” as the year with the highest total constructor points. I will compute Ferrari’s yearly points using `constructor_standings`, not driver results."
   ]
  },
  {
   "cell_type": "code",
   "execution_count": null,
   "id": "e7f984e8",
   "metadata": {},
   "outputs": [
    {
     "data": {
      "application/vnd.microsoft.datawrangler.viewer.v0+json": {
       "columns": [
        {
         "name": "year",
         "rawType": "int64",
         "type": "integer"
        },
        {
         "name": "total_points",
         "rawType": "float64",
         "type": "float"
        }
       ],
       "ref": "350de7a8-0982-4d57-b192-d2d140ad84bd",
       "rows": [
        [
         "2018",
         "6377.0"
        ],
        [
         "2017",
         "5749.0"
        ],
        [
         "2019",
         "5735.0"
        ],
        [
         "2016",
         "4566.0"
        ],
        [
         "2015",
         "4457.0"
        ],
        [
         "2010",
         "3966.0"
        ],
        [
         "2013",
         "3787.0"
        ],
        [
         "2012",
         "3659.0"
        ],
        [
         "2011",
         "3546.0"
        ],
        [
         "2004",
         "2636.0"
        ],
        [
         "2014",
         "2314.0"
        ],
        [
         "2002",
         "1796.0"
        ],
        [
         "2006",
         "1796.0"
        ],
        [
         "2007",
         "1734.0"
        ],
        [
         "2008",
         "1686.0"
        ],
        [
         "2001",
         "1631.0"
        ],
        [
         "2000",
         "1493.0"
        ],
        [
         "2003",
         "1336.0"
        ],
        [
         "2020",
         "1285.0"
        ],
        [
         "1999",
         "1133.0"
        ],
        [
         "1998",
         "1105.0"
        ],
        [
         "2005",
         "1091.0"
        ],
        [
         "1997",
         "1000.0"
        ],
        [
         "1985",
         "857.0"
        ],
        [
         "1990",
         "842.0"
        ],
        [
         "1995",
         "806.0"
        ],
        [
         "1983",
         "691.0"
        ],
        [
         "1994",
         "654.0"
        ],
        [
         "1988",
         "628.0"
        ],
        [
         "1982",
         "577.0"
        ],
        [
         "2009",
         "577.0"
        ],
        [
         "1996",
         "544.0"
        ],
        [
         "1991",
         "475.5"
        ],
        [
         "1984",
         "475.5"
        ],
        [
         "1989",
         "461.0"
        ],
        [
         "1987",
         "322.0"
        ],
        [
         "1981",
         "288.0"
        ],
        [
         "1986",
         "253.0"
        ],
        [
         "1992",
         "189.0"
        ],
        [
         "1993",
         "171.0"
        ]
       ],
       "shape": {
        "columns": 1,
        "rows": 40
       }
      },
      "text/html": [
       "<div>\n",
       "<style scoped>\n",
       "    .dataframe tbody tr th:only-of-type {\n",
       "        vertical-align: middle;\n",
       "    }\n",
       "\n",
       "    .dataframe tbody tr th {\n",
       "        vertical-align: top;\n",
       "    }\n",
       "\n",
       "    .dataframe thead th {\n",
       "        text-align: right;\n",
       "    }\n",
       "</style>\n",
       "<table border=\"1\" class=\"dataframe\">\n",
       "  <thead>\n",
       "    <tr style=\"text-align: right;\">\n",
       "      <th></th>\n",
       "      <th>total_points</th>\n",
       "    </tr>\n",
       "    <tr>\n",
       "      <th>year</th>\n",
       "      <th></th>\n",
       "    </tr>\n",
       "  </thead>\n",
       "  <tbody>\n",
       "    <tr>\n",
       "      <th>2018</th>\n",
       "      <td>6377.0</td>\n",
       "    </tr>\n",
       "    <tr>\n",
       "      <th>2017</th>\n",
       "      <td>5749.0</td>\n",
       "    </tr>\n",
       "    <tr>\n",
       "      <th>2019</th>\n",
       "      <td>5735.0</td>\n",
       "    </tr>\n",
       "    <tr>\n",
       "      <th>2016</th>\n",
       "      <td>4566.0</td>\n",
       "    </tr>\n",
       "    <tr>\n",
       "      <th>2015</th>\n",
       "      <td>4457.0</td>\n",
       "    </tr>\n",
       "    <tr>\n",
       "      <th>2010</th>\n",
       "      <td>3966.0</td>\n",
       "    </tr>\n",
       "    <tr>\n",
       "      <th>2013</th>\n",
       "      <td>3787.0</td>\n",
       "    </tr>\n",
       "    <tr>\n",
       "      <th>2012</th>\n",
       "      <td>3659.0</td>\n",
       "    </tr>\n",
       "    <tr>\n",
       "      <th>2011</th>\n",
       "      <td>3546.0</td>\n",
       "    </tr>\n",
       "    <tr>\n",
       "      <th>2004</th>\n",
       "      <td>2636.0</td>\n",
       "    </tr>\n",
       "    <tr>\n",
       "      <th>2014</th>\n",
       "      <td>2314.0</td>\n",
       "    </tr>\n",
       "    <tr>\n",
       "      <th>2002</th>\n",
       "      <td>1796.0</td>\n",
       "    </tr>\n",
       "    <tr>\n",
       "      <th>2006</th>\n",
       "      <td>1796.0</td>\n",
       "    </tr>\n",
       "    <tr>\n",
       "      <th>2007</th>\n",
       "      <td>1734.0</td>\n",
       "    </tr>\n",
       "    <tr>\n",
       "      <th>2008</th>\n",
       "      <td>1686.0</td>\n",
       "    </tr>\n",
       "    <tr>\n",
       "      <th>2001</th>\n",
       "      <td>1631.0</td>\n",
       "    </tr>\n",
       "    <tr>\n",
       "      <th>2000</th>\n",
       "      <td>1493.0</td>\n",
       "    </tr>\n",
       "    <tr>\n",
       "      <th>2003</th>\n",
       "      <td>1336.0</td>\n",
       "    </tr>\n",
       "    <tr>\n",
       "      <th>2020</th>\n",
       "      <td>1285.0</td>\n",
       "    </tr>\n",
       "    <tr>\n",
       "      <th>1999</th>\n",
       "      <td>1133.0</td>\n",
       "    </tr>\n",
       "    <tr>\n",
       "      <th>1998</th>\n",
       "      <td>1105.0</td>\n",
       "    </tr>\n",
       "    <tr>\n",
       "      <th>2005</th>\n",
       "      <td>1091.0</td>\n",
       "    </tr>\n",
       "    <tr>\n",
       "      <th>1997</th>\n",
       "      <td>1000.0</td>\n",
       "    </tr>\n",
       "    <tr>\n",
       "      <th>1985</th>\n",
       "      <td>857.0</td>\n",
       "    </tr>\n",
       "    <tr>\n",
       "      <th>1990</th>\n",
       "      <td>842.0</td>\n",
       "    </tr>\n",
       "    <tr>\n",
       "      <th>1995</th>\n",
       "      <td>806.0</td>\n",
       "    </tr>\n",
       "    <tr>\n",
       "      <th>1983</th>\n",
       "      <td>691.0</td>\n",
       "    </tr>\n",
       "    <tr>\n",
       "      <th>1994</th>\n",
       "      <td>654.0</td>\n",
       "    </tr>\n",
       "    <tr>\n",
       "      <th>1988</th>\n",
       "      <td>628.0</td>\n",
       "    </tr>\n",
       "    <tr>\n",
       "      <th>1982</th>\n",
       "      <td>577.0</td>\n",
       "    </tr>\n",
       "    <tr>\n",
       "      <th>2009</th>\n",
       "      <td>577.0</td>\n",
       "    </tr>\n",
       "    <tr>\n",
       "      <th>1996</th>\n",
       "      <td>544.0</td>\n",
       "    </tr>\n",
       "    <tr>\n",
       "      <th>1991</th>\n",
       "      <td>475.5</td>\n",
       "    </tr>\n",
       "    <tr>\n",
       "      <th>1984</th>\n",
       "      <td>475.5</td>\n",
       "    </tr>\n",
       "    <tr>\n",
       "      <th>1989</th>\n",
       "      <td>461.0</td>\n",
       "    </tr>\n",
       "    <tr>\n",
       "      <th>1987</th>\n",
       "      <td>322.0</td>\n",
       "    </tr>\n",
       "    <tr>\n",
       "      <th>1981</th>\n",
       "      <td>288.0</td>\n",
       "    </tr>\n",
       "    <tr>\n",
       "      <th>1986</th>\n",
       "      <td>253.0</td>\n",
       "    </tr>\n",
       "    <tr>\n",
       "      <th>1992</th>\n",
       "      <td>189.0</td>\n",
       "    </tr>\n",
       "    <tr>\n",
       "      <th>1993</th>\n",
       "      <td>171.0</td>\n",
       "    </tr>\n",
       "  </tbody>\n",
       "</table>\n",
       "</div>"
      ],
      "text/plain": [
       "      total_points\n",
       "year              \n",
       "2018        6377.0\n",
       "2017        5749.0\n",
       "2019        5735.0\n",
       "2016        4566.0\n",
       "2015        4457.0\n",
       "2010        3966.0\n",
       "2013        3787.0\n",
       "2012        3659.0\n",
       "2011        3546.0\n",
       "2004        2636.0\n",
       "2014        2314.0\n",
       "2002        1796.0\n",
       "2006        1796.0\n",
       "2007        1734.0\n",
       "2008        1686.0\n",
       "2001        1631.0\n",
       "2000        1493.0\n",
       "2003        1336.0\n",
       "2020        1285.0\n",
       "1999        1133.0\n",
       "1998        1105.0\n",
       "2005        1091.0\n",
       "1997        1000.0\n",
       "1985         857.0\n",
       "1990         842.0\n",
       "1995         806.0\n",
       "1983         691.0\n",
       "1994         654.0\n",
       "1988         628.0\n",
       "1982         577.0\n",
       "2009         577.0\n",
       "1996         544.0\n",
       "1991         475.5\n",
       "1984         475.5\n",
       "1989         461.0\n",
       "1987         322.0\n",
       "1981         288.0\n",
       "1986         253.0\n",
       "1992         189.0\n",
       "1993         171.0"
      ]
     },
     "metadata": {},
     "output_type": "display_data"
    }
   ],
   "source": [
    "ferrari_constr = merged_constructurs.query(\"year >= 1981 and year <= 2020 and name == 'Ferrari'\")\n",
    "\n",
    "ferrari_yearly = (ferrari_constr\n",
    "                  .groupby(\"year\")\n",
    "                  .agg(total_points=(\"points\",\"sum\"))\n",
    "                  .sort_values(\"total_points\", ascending=False))\n",
    "\n",
    "display(ferrari_yearly)\n",
    "\n",
    "#The best year was 2018"
   ]
  }
 ],
 "metadata": {
  "kernelspec": {
   "display_name": "base",
   "language": "python",
   "name": "python3"
  },
  "language_info": {
   "codemirror_mode": {
    "name": "ipython",
    "version": 3
   },
   "file_extension": ".py",
   "mimetype": "text/x-python",
   "name": "python",
   "nbconvert_exporter": "python",
   "pygments_lexer": "ipython3",
   "version": "3.13.5"
  }
 },
 "nbformat": 4,
 "nbformat_minor": 5
}
